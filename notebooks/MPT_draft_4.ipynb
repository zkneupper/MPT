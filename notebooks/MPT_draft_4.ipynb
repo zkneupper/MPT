{
 "cells": [
  {
   "cell_type": "markdown",
   "metadata": {},
   "source": [
    "# Modern Portfolio Theory Notebook"
   ]
  },
  {
   "cell_type": "markdown",
   "metadata": {},
   "source": [
    "### Objective:\n",
    "\n",
    "1. We will construct an optimal portfolio using daily return data from 2016.\n",
    "2. We will backtest the performance of that portolio in 2017, and we will compare it against the performance of the benchmark index (the DJIA)."
   ]
  },
  {
   "cell_type": "code",
   "execution_count": 1,
   "metadata": {
    "collapsed": true
   },
   "outputs": [],
   "source": [
    "# Import libraries\n",
    "import os\n",
    "import pandas as pd\n",
    "import numpy as np\n",
    "import quandl\n",
    "import pandas_datareader.data as web\n",
    "import datetime\n",
    "from sqlalchemy import create_engine\n",
    "from scipy.optimize import minimize\n",
    "import matplotlib.pyplot as plt\n",
    "\n",
    "# Modify notebook settings\n",
    "%matplotlib inline\n",
    "pd.options.display.max_columns = 100\n",
    "pd.options.display.max_rows = 100\n",
    "np.set_printoptions(suppress=True)"
   ]
  },
  {
   "cell_type": "markdown",
   "metadata": {},
   "source": [
    "### Portfolio Constituents\n",
    "Our portfolio will only contain constituents of the [Dow Jones Industrial Average](https://finance.yahoo.com/quote/%5EDJI/components/)."
   ]
  },
  {
   "cell_type": "code",
   "execution_count": 2,
   "metadata": {
    "collapsed": true
   },
   "outputs": [],
   "source": [
    "# Define a list of stock tickers of DJIA constituents.\n",
    "stocks = ['AAPL', 'AXP', 'BA', 'CAT', 'CSCO', 'CVX', 'DD', 'DIS', 'GE', 'GS',\n",
    "          'HD', 'IBM', 'INTC', 'JNJ', 'JPM', 'KO', 'MCD', 'MMM', 'MRK', 'MSFT',\n",
    "          'NKE', 'PFE', 'PG', 'TRV', 'UNH', 'UTX', 'V', 'VZ', 'WMT', 'XOM']\n",
    "stocks.sort()"
   ]
  },
  {
   "cell_type": "markdown",
   "metadata": {},
   "source": [
    "### Retrieve stock data from Quandl and store it in a SQL database"
   ]
  },
  {
   "cell_type": "code",
   "execution_count": 3,
   "metadata": {
    "collapsed": true
   },
   "outputs": [],
   "source": [
    "# Create a variable for the project root directory\n",
    "proj_root = os.path.join(os.pardir)\n",
    "\n",
    "# Save the path to the folder that will contain the SQLite database \n",
    "# we will create to store stock data\n",
    "raw_data_dir = os.path.join(proj_root, \"data\", \"raw\")\n",
    "\n",
    "db_name = 'djia_constituents_2016.db'\n",
    "\n",
    "#stock_db = os.path.join('sqlite:///', db_name)\n",
    "\n",
    "sqlitedb_path = os.path.join(raw_data_dir, db_name)\n",
    "\n",
    "sqlitedb_eng = os.path.join('sqlite:///', sqlitedb_path)\n",
    "\n",
    "# Connect to a database engine\n",
    "engine = create_engine(sqlitedb_eng)"
   ]
  },
  {
   "cell_type": "code",
   "execution_count": 4,
   "metadata": {
    "collapsed": true
   },
   "outputs": [],
   "source": [
    "# Set the start and end dates for the data we will retrieve\n",
    "start = datetime.datetime(1998, 1, 1)\n",
    "end = datetime.datetime(2018, 1, 1)"
   ]
  },
  {
   "cell_type": "code",
   "execution_count": 5,
   "metadata": {
    "collapsed": true
   },
   "outputs": [],
   "source": [
    "# Retrieve data for the Dow Jones Industrial Average index from FRED,\n",
    "# and store it in the database\n",
    "djia_table_name = 'DJIA_fred'\n",
    "\n",
    "if djia_table_name in engine.table_names():\n",
    "    #print(djia_table_name, 'already exists.')\n",
    "    pass\n",
    "else:\n",
    "    df = web.DataReader(\"DJIA\", \"fred\", start, end)\n",
    "    df.to_sql(djia_table_name, engine)"
   ]
  },
  {
   "cell_type": "code",
   "execution_count": 6,
   "metadata": {
    "collapsed": true
   },
   "outputs": [],
   "source": [
    "# Retrieve stock data from Quandl and store it in the database\n",
    "for stock in stocks:\n",
    "\n",
    "    # Set the table name\n",
    "    table_name = stock + '_table'\n",
    "    \n",
    "    if table_name in engine.table_names():\n",
    "        #print(table_name, 'already exists.')\n",
    "        pass        \n",
    "    else:\n",
    "        # Retrieve stock data from Quandl\n",
    "        df = quandl.get('WIKI/{}'.format(stock), start_date=start, end_date=end)\n",
    "\n",
    "        # Make column names contain only alphabetical characters and underscores.\n",
    "        df = df.rename(columns={c: c.replace('. ', '_').replace('-', '_').\\\n",
    "                                replace(' ', '_') for c in df.columns}) \n",
    "\n",
    "        df.to_sql(table_name, engine)"
   ]
  },
  {
   "cell_type": "markdown",
   "metadata": {},
   "source": [
    "## Create a Dataframe of price data\n",
    "Create a Dataframe that contains Adj_Close that contains daily adjusted close of each stock in the DJIA, as well as the daily DJIA time series."
   ]
  },
  {
   "cell_type": "code",
   "execution_count": 7,
   "metadata": {
    "collapsed": true
   },
   "outputs": [],
   "source": [
    "# Build a Dataframe called \"prices_df\"\n",
    "\n",
    "# Include each price time series\n",
    "sql_query = \"\"\"SELECT Date, Adj_Close AS {s} FROM {s}_table\"\"\".format(s=stocks[0])\n",
    "prices_df = pd.read_sql_query(sql=sql_query, con=engine, index_col='Date')\n",
    "\n",
    "for s in stocks[1:]:\n",
    "    sql_query = \"\"\"SELECT Date, Adj_Close AS {s} FROM {s}_table\"\"\".format(s=s)\n",
    "    temp_df = pd.read_sql_query(sql=sql_query, con=engine, index_col='Date')\n",
    "    prices_df = pd.concat([prices_df, temp_df],axis=1)\n",
    "    \n",
    "# Include the DJIA index time series\n",
    "sql_query = \"\"\"SELECT * FROM {s}\"\"\".format(s=djia_table_name)\n",
    "temp_df = pd.read_sql_query(sql=sql_query, con=engine, index_col='DATE')\n",
    "prices_df = pd.concat([temp_df, prices_df],axis=1)\n",
    "\n",
    "# Reformat the Date index\n",
    "prices_df.index = pd.DatetimeIndex(prices_df.index, name='Date')"
   ]
  },
  {
   "cell_type": "markdown",
   "metadata": {},
   "source": [
    "### Check for missing values in 2016 and 2017\n",
    "For each price time series, we will calculate the proportion of missing values."
   ]
  },
  {
   "cell_type": "code",
   "execution_count": 8,
   "metadata": {},
   "outputs": [
    {
     "data": {
      "text/plain": [
       "TRV     0.669866\n",
       "DD      0.193858\n",
       "MMM     0.088292\n",
       "INTC    0.038388\n",
       "AAPL    0.038388\n",
       "XOM     0.036468\n",
       "AXP     0.036468\n",
       "BA      0.036468\n",
       "CAT     0.036468\n",
       "CSCO    0.036468\n",
       "CVX     0.036468\n",
       "DIS     0.036468\n",
       "GE      0.036468\n",
       "GS      0.036468\n",
       "HD      0.036468\n",
       "IBM     0.036468\n",
       "JPM     0.036468\n",
       "JNJ     0.036468\n",
       "WMT     0.036468\n",
       "KO      0.036468\n",
       "MCD     0.036468\n",
       "MRK     0.036468\n",
       "MSFT    0.036468\n",
       "NKE     0.036468\n",
       "PFE     0.036468\n",
       "PG      0.036468\n",
       "UNH     0.036468\n",
       "UTX     0.036468\n",
       "V       0.036468\n",
       "VZ      0.036468\n",
       "DJIA    0.034549\n",
       "dtype: float64"
      ]
     },
     "execution_count": 8,
     "metadata": {},
     "output_type": "execute_result"
    }
   ],
   "source": [
    "# Calculate the proportion of missing values by ticker and sort from largest to smallest.\n",
    "(prices_df['2016':'2017'].isnull().sum(axis=0) \\\n",
    "    / len(prices_df['2016':'2017'])).sort_values(ascending=False)"
   ]
  },
  {
   "cell_type": "markdown",
   "metadata": {},
   "source": [
    "All price data for Travelers Insurance (TRV) is missing in 2016 and 2017. \n",
    "\n",
    "Additionally, much of the price data for Du Pont (DD) and 3M (MMM) is missing in 2017.\n",
    "\n",
    "We will exclude these three stocks (DD, MMM, and TRV) from our portfolio and any further analysis."
   ]
  },
  {
   "cell_type": "markdown",
   "metadata": {},
   "source": [
    "Next, we construct a Dataframe of the 2016 time series, excluding DD, MMM, TRV, and the benchmark index DJIA.  We will call the Dataframe \"prices_2016\"."
   ]
  },
  {
   "cell_type": "code",
   "execution_count": 9,
   "metadata": {
    "collapsed": true
   },
   "outputs": [],
   "source": [
    "# Create prices_2016\n",
    "prices_2016 = prices_df['2016'].drop(['DJIA', 'DD', 'MMM', 'TRV'], axis=1)"
   ]
  },
  {
   "cell_type": "code",
   "execution_count": 10,
   "metadata": {},
   "outputs": [
    {
     "data": {
      "text/plain": [
       "252"
      ]
     },
     "execution_count": 10,
     "metadata": {},
     "output_type": "execute_result"
    }
   ],
   "source": [
    "# Number of observations (excluding missing observations)\n",
    "len(prices_2016.dropna())"
   ]
  },
  {
   "cell_type": "code",
   "execution_count": 11,
   "metadata": {},
   "outputs": [
    {
     "data": {
      "text/plain": [
       "27"
      ]
     },
     "execution_count": 11,
     "metadata": {},
     "output_type": "execute_result"
    }
   ],
   "source": [
    "# Number of stocks\n",
    "stocks_count = len(prices_2016.columns)\n",
    "stocks_count"
   ]
  },
  {
   "cell_type": "markdown",
   "metadata": {},
   "source": [
    "### Calculate the annualized mean of log returns for each stock"
   ]
  },
  {
   "cell_type": "code",
   "execution_count": 12,
   "metadata": {
    "collapsed": true
   },
   "outputs": [],
   "source": [
    "# Calculate daily log returns\n",
    "log_returns = np.log(prices_2016/prices_2016.shift(1))\n",
    "log_returns.dropna(inplace=True)"
   ]
  },
  {
   "cell_type": "markdown",
   "metadata": {},
   "source": [
    "# Numerical optimization\n",
    "\n",
    "We will use a numerical optimization method called Sequential Least SQuares Programming (SLSQP) to find optimal portfolio weights.  We are finding the weights that would have given use the portfolio with the highest Sharpe ratio (in 2016)."
   ]
  },
  {
   "cell_type": "code",
   "execution_count": 13,
   "metadata": {
    "collapsed": true
   },
   "outputs": [],
   "source": [
    "# Initialize the portfolio weights such that all 29 stocks have the same weight.\n",
    "weights_initial = np.array([(1 / stocks_count) for i in range(stocks_count)])"
   ]
  },
  {
   "cell_type": "markdown",
   "metadata": {},
   "source": [
    "Our portfolio will be long-only, and we will not use leverage.  Therefore, each of the portfolio weights will be constrained to the range [0, 1]."
   ]
  },
  {
   "cell_type": "code",
   "execution_count": 14,
   "metadata": {
    "collapsed": true
   },
   "outputs": [],
   "source": [
    "# Constrain weights to the range [0, 1].\n",
    "weight_bounds = tuple((0, 1) for i in range(stocks_count))"
   ]
  },
  {
   "cell_type": "markdown",
   "metadata": {},
   "source": [
    "Our portfolio will be fully invested. Therefore, the portfolio weights must sum to 1."
   ]
  },
  {
   "cell_type": "code",
   "execution_count": 15,
   "metadata": {
    "collapsed": true
   },
   "outputs": [],
   "source": [
    "# Contraints\n",
    "def check_sum(weights):\n",
    "    '''\n",
    "    Arguments: An array of portfolio weights.\n",
    "    Returns 0 if sum of weights is 1.0.\n",
    "    '''\n",
    "    return np.sum(weights) - 1"
   ]
  },
  {
   "cell_type": "code",
   "execution_count": 16,
   "metadata": {
    "collapsed": true
   },
   "outputs": [],
   "source": [
    "def calculate_rvs(log_returns_df, weights=None):\n",
    "    \"\"\"\n",
    "    Arguments: (1) A dataframe of daily log returns\n",
    "    and (2) an array of weights.\n",
    "    \n",
    "    Returns a dictionary containing\n",
    "    annualized returns (\"r\"),\n",
    "    annualized volatility (\"v\"), and the \n",
    "    annualized sharpe ratio (\"s\").\n",
    "    \"\"\"\n",
    "    \n",
    "    if len(log_returns_df.columns) == 1:        \n",
    "        returns = np.array(252 * log_returns_df.mean().values)\n",
    "        volatility = np.array(np.sqrt(252) * \\\n",
    "                              log_returns_df.std().values)\n",
    "        \n",
    "    else:\n",
    "        weights = np.array(weights)\n",
    "        returns = np.array(252 * np.sum(weights * \\\n",
    "                                        log_returns_df.mean())).reshape(1,)\n",
    "        volatility = np.array(np.sqrt(np.dot(weights.T,\n",
    "                                             np.dot(252 * \\\n",
    "                                                    log_returns_df.cov(),\n",
    "                                                    weights)))).reshape(1,)\n",
    "    \n",
    "    sharpe_ratio = returns / volatility\n",
    "\n",
    "    return {'r': returns,'v': volatility,'s': sharpe_ratio}"
   ]
  },
  {
   "cell_type": "code",
   "execution_count": 17,
   "metadata": {
    "collapsed": true
   },
   "outputs": [],
   "source": [
    "def negative_sr(weights, log_returns_df):\n",
    "    return calculate_rvs(log_returns_df, weights)['s'] * -1"
   ]
  },
  {
   "cell_type": "code",
   "execution_count": 18,
   "metadata": {
    "collapsed": true
   },
   "outputs": [],
   "source": [
    "# By convention of minimize function it should be a function that returns zero for conditions\n",
    "constraints = ({'type':'eq','fun': check_sum})"
   ]
  },
  {
   "cell_type": "code",
   "execution_count": 19,
   "metadata": {
    "collapsed": true
   },
   "outputs": [],
   "source": [
    "# Sequential Least SQuares Programming (SLSQP).\n",
    "opt_results = minimize(negative_sr,\n",
    "                       weights_initial, \n",
    "                       args=(log_returns),\n",
    "                       method='SLSQP',\n",
    "                       bounds=weight_bounds,\n",
    "                       constraints=constraints)"
   ]
  },
  {
   "cell_type": "code",
   "execution_count": 20,
   "metadata": {},
   "outputs": [
    {
     "data": {
      "text/plain": [
       "array([ 0.        ,  0.        ,  0.        ,  0.06140957,  0.        ,\n",
       "        0.18320733,  0.        ,  0.        ,  0.        ,  0.        ,\n",
       "        0.10937602,  0.        ,  0.09756229,  0.04600496,  0.        ,\n",
       "        0.        ,  0.        ,  0.        ,  0.        ,  0.        ,\n",
       "        0.        ,  0.38082276,  0.        ,  0.        ,  0.11188382,\n",
       "        0.00973326,  0.        ])"
      ]
     },
     "execution_count": 20,
     "metadata": {},
     "output_type": "execute_result"
    }
   ],
   "source": [
    "#opt_results.x\n",
    "optimal_weights = opt_results.x\n",
    "optimal_weights"
   ]
  },
  {
   "cell_type": "code",
   "execution_count": 21,
   "metadata": {},
   "outputs": [
    {
     "data": {
      "text/plain": [
       "{'r': array([ 0.27488626]),\n",
       " 's': array([ 2.04948349]),\n",
       " 'v': array([ 0.13412465])}"
      ]
     },
     "execution_count": 21,
     "metadata": {},
     "output_type": "execute_result"
    }
   ],
   "source": [
    "calculate_rvs(log_returns, optimal_weights)"
   ]
  },
  {
   "cell_type": "markdown",
   "metadata": {},
   "source": [
    "# Backtest portfolio performance in 2017"
   ]
  },
  {
   "cell_type": "markdown",
   "metadata": {},
   "source": [
    "### Portfolio performance"
   ]
  },
  {
   "cell_type": "code",
   "execution_count": 22,
   "metadata": {
    "collapsed": true
   },
   "outputs": [],
   "source": [
    "# Create prices_2017\n",
    "prices_2017 = prices_df['2017'].drop(['DJIA', 'DD', 'MMM', 'TRV'], axis=1)"
   ]
  },
  {
   "cell_type": "code",
   "execution_count": 23,
   "metadata": {
    "collapsed": true
   },
   "outputs": [],
   "source": [
    "# Normalize prices\n",
    "prices_2017_normalized = prices_2017.dropna() /\\\n",
    "prices_2017.dropna().iloc[0]"
   ]
  },
  {
   "cell_type": "code",
   "execution_count": 24,
   "metadata": {
    "collapsed": true
   },
   "outputs": [],
   "source": [
    "# Weigh the portfolio constituents with the optimal weights \n",
    "# determined above.\n",
    "portfolio_2017_array = np.dot(prices_2017_normalized,\n",
    "                              optimal_weights)"
   ]
  },
  {
   "cell_type": "code",
   "execution_count": 25,
   "metadata": {
    "collapsed": true
   },
   "outputs": [],
   "source": [
    "# Create a Dataframe of the normalized portfolio time series.\n",
    "portfolio_2017_df = pd.DataFrame(data=portfolio_2017_array, \n",
    "                                 index=prices_2017_normalized.index,\n",
    "                                 columns=['Portfolio'])"
   ]
  },
  {
   "cell_type": "code",
   "execution_count": 26,
   "metadata": {
    "collapsed": true
   },
   "outputs": [],
   "source": [
    "# Calculate daily log returns of the portfolio.\n",
    "log_returns_2017_portfolio = np.log(portfolio_2017_df.dropna() /\\\n",
    "                                    portfolio_2017_df.dropna().shift(1))\n",
    "log_returns_2017_portfolio.dropna(inplace=True)"
   ]
  },
  {
   "cell_type": "code",
   "execution_count": 27,
   "metadata": {},
   "outputs": [
    {
     "data": {
      "text/plain": [
       "{'r': array([ 0.21905649]),\n",
       " 's': array([ 2.6085937]),\n",
       " 'v': array([ 0.08397493])}"
      ]
     },
     "execution_count": 27,
     "metadata": {},
     "output_type": "execute_result"
    }
   ],
   "source": [
    "rvs_2017_portfolio = calculate_rvs(log_returns_2017_portfolio)\n",
    "\n",
    "rvs_2017_portfolio"
   ]
  },
  {
   "cell_type": "markdown",
   "metadata": {},
   "source": [
    "### Benchmark performance"
   ]
  },
  {
   "cell_type": "code",
   "execution_count": 28,
   "metadata": {
    "collapsed": true
   },
   "outputs": [],
   "source": [
    "# Create benchmark_2017\n",
    "benchmark_2017 = prices_df['2017'][['DJIA']]"
   ]
  },
  {
   "cell_type": "code",
   "execution_count": 29,
   "metadata": {
    "collapsed": true
   },
   "outputs": [],
   "source": [
    "# Normalize prices\n",
    "benchmark_2017_df = benchmark_2017.dropna() /\\\n",
    "benchmark_2017.dropna().iloc[0]"
   ]
  },
  {
   "cell_type": "code",
   "execution_count": 30,
   "metadata": {
    "collapsed": true
   },
   "outputs": [],
   "source": [
    "# Calculate daily log returns of the benchmark.\n",
    "log_returns_2017_benchmark = np.log(benchmark_2017_df.dropna() /\\\n",
    "                                    benchmark_2017_df.dropna().shift(1))\n",
    "log_returns_2017_benchmark.dropna(inplace=True)"
   ]
  },
  {
   "cell_type": "code",
   "execution_count": 31,
   "metadata": {},
   "outputs": [
    {
     "data": {
      "text/plain": [
       "{'r': array([ 0.21952058]),\n",
       " 's': array([ 3.3179173]),\n",
       " 'v': array([ 0.06616216])}"
      ]
     },
     "execution_count": 31,
     "metadata": {},
     "output_type": "execute_result"
    }
   ],
   "source": [
    "rvs_2017_benchmark = calculate_rvs(log_returns_2017_benchmark)\n",
    "\n",
    "rvs_2017_benchmark"
   ]
  },
  {
   "cell_type": "markdown",
   "metadata": {},
   "source": [
    "### Plot the 2017 time series"
   ]
  },
  {
   "cell_type": "code",
   "execution_count": 32,
   "metadata": {
    "collapsed": true
   },
   "outputs": [],
   "source": [
    "plot_df_2017 = pd.concat([portfolio_2017_df,\n",
    "                          benchmark_2017_df],\n",
    "                         axis=1)"
   ]
  },
  {
   "cell_type": "code",
   "execution_count": 33,
   "metadata": {},
   "outputs": [
    {
     "data": {
      "text/plain": [
       "<matplotlib.axes._subplots.AxesSubplot at 0x10bc7ddd8>"
      ]
     },
     "execution_count": 33,
     "metadata": {},
     "output_type": "execute_result"
    },
    {
     "data": {
      "image/png": "[encoded data removed]",
      "text/plain": [
       "<matplotlib.figure.Figure at 0x10c967438>"
      ]
     },
     "metadata": {},
     "output_type": "display_data"
    }
   ],
   "source": [
    "plt.style.use('ggplot')\n",
    "\n",
    "plot_df_2017.interpolate(method='linear',\n",
    "                         axis=0).plot(figsize=(12,7))"
   ]
  },
  {
   "cell_type": "code",
   "execution_count": 34,
   "metadata": {},
   "outputs": [
    {
     "data": {
      "text/plain": [
       "Portfolio    0.240580\n",
       "DJIA         0.243311\n",
       "dtype: float64"
      ]
     },
     "execution_count": 34,
     "metadata": {},
     "output_type": "execute_result"
    }
   ],
   "source": [
    "# Annual returns\n",
    "(plot_df_2017.iloc[-1] / plot_df_2017.iloc[0]) - 1"
   ]
  },
  {
   "cell_type": "code",
   "execution_count": 35,
   "metadata": {
    "collapsed": true
   },
   "outputs": [],
   "source": [
    "backtest_results_p = pd.DataFrame(data=[((plot_df_2017.iloc[-1] /\\\n",
    "                                          plot_df_2017.iloc[0]) - 1)[0],\n",
    "                                        rvs_2017_portfolio['s'][0],\n",
    "                                        rvs_2017_portfolio['r'][0],\n",
    "                                        rvs_2017_portfolio['v'][0]],\n",
    "                                  index=['Annual Returns',\n",
    "                                         'Sharpe Ratio',\n",
    "                                         'Mean Returns',\n",
    "                                         'Volatility'],\n",
    "                                  columns=['Portfolio'])"
   ]
  },
  {
   "cell_type": "code",
   "execution_count": 36,
   "metadata": {
    "collapsed": true
   },
   "outputs": [],
   "source": [
    "backtest_results_b = pd.DataFrame(data=[((plot_df_2017.iloc[-1] /\\\n",
    "                                          plot_df_2017.iloc[0]) - 1)[1],\n",
    "                                        rvs_2017_benchmark['s'][0],\n",
    "                                        rvs_2017_benchmark['r'][0],\n",
    "                                        rvs_2017_benchmark['v'][0]],\n",
    "                                  index=['Annual Returns',\n",
    "                                         'Sharpe Ratio',\n",
    "                                         'Mean Returns',\n",
    "                                         'Volatility'],\n",
    "                                  columns=['Benchmark'])"
   ]
  },
  {
   "cell_type": "code",
   "execution_count": 37,
   "metadata": {
    "collapsed": true
   },
   "outputs": [],
   "source": [
    "backtest_results_df = pd.concat([backtest_results_p,\n",
    "                                 backtest_results_b],axis=1)"
   ]
  },
  {
   "cell_type": "code",
   "execution_count": 38,
   "metadata": {},
   "outputs": [
    {
     "data": {
      "text/html": [
       "<div>\n",
       "<style>\n",
       "    .dataframe thead tr:only-child th {\n",
       "        text-align: right;\n",
       "    }\n",
       "\n",
       "    .dataframe thead th {\n",
       "        text-align: left;\n",
       "    }\n",
       "\n",
       "    .dataframe tbody tr th {\n",
       "        vertical-align: top;\n",
       "    }\n",
       "</style>\n",
       "<table border=\"1\" class=\"dataframe\">\n",
       "  <thead>\n",
       "    <tr style=\"text-align: right;\">\n",
       "      <th></th>\n",
       "      <th>Portfolio</th>\n",
       "      <th>Benchmark</th>\n",
       "    </tr>\n",
       "  </thead>\n",
       "  <tbody>\n",
       "    <tr>\n",
       "      <th>Annual Returns</th>\n",
       "      <td>0.240580</td>\n",
       "      <td>0.243311</td>\n",
       "    </tr>\n",
       "    <tr>\n",
       "      <th>Sharpe Ratio</th>\n",
       "      <td>2.608594</td>\n",
       "      <td>3.317917</td>\n",
       "    </tr>\n",
       "    <tr>\n",
       "      <th>Mean Returns</th>\n",
       "      <td>0.219056</td>\n",
       "      <td>0.219521</td>\n",
       "    </tr>\n",
       "    <tr>\n",
       "      <th>Volatility</th>\n",
       "      <td>0.083975</td>\n",
       "      <td>0.066162</td>\n",
       "    </tr>\n",
       "  </tbody>\n",
       "</table>\n",
       "</div>"
      ],
      "text/plain": [
       "                Portfolio  Benchmark\n",
       "Annual Returns   0.240580   0.243311\n",
       "Sharpe Ratio     2.608594   3.317917\n",
       "Mean Returns     0.219056   0.219521\n",
       "Volatility       0.083975   0.066162"
      ]
     },
     "execution_count": 38,
     "metadata": {},
     "output_type": "execute_result"
    }
   ],
   "source": [
    "backtest_results_df"
   ]
  },
  {
   "cell_type": "markdown",
   "metadata": {
    "collapsed": true
   },
   "source": [
    "## Visualize the efficient frontier and where our portfolio lies"
   ]
  },
  {
   "cell_type": "code",
   "execution_count": 39,
   "metadata": {
    "collapsed": true
   },
   "outputs": [],
   "source": [
    "#  ..."
   ]
  }
 ],
 "metadata": {
  "kernelspec": {
   "display_name": "Python 3",
   "language": "python",
   "name": "python3"
  },
  "language_info": {
   "codemirror_mode": {
    "name": "ipython",
    "version": 3
   },
   "file_extension": ".py",
   "mimetype": "text/x-python",
   "name": "python",
   "nbconvert_exporter": "python",
   "pygments_lexer": "ipython3",
   "version": "3.6.1"
  }
 },
 "nbformat": 4,
 "nbformat_minor": 2
}
